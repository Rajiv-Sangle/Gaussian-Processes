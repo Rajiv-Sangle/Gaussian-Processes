{
 "cells": [
  {
   "cell_type": "code",
   "execution_count": 3,
   "metadata": {},
   "outputs": [],
   "source": [
    "import numpy as np\n",
    "import matplotlib.pyplot as plt"
   ]
  },
  {
   "cell_type": "code",
   "execution_count": 4,
   "metadata": {},
   "outputs": [],
   "source": [
    "\n",
    "def rbf_kernel(x1, x2, theta):\n",
    "    sigma = theta[0]\n",
    "    l = theta[1]\n",
    "    \n",
    "    return sigma**2 * np.exp(-0.5 * np.subtract.outer(x1,x2)**2 / l**2)    "
   ]
  },
  {
   "cell_type": "code",
   "execution_count": 5,
   "metadata": {},
   "outputs": [],
   "source": [
    "def conditionalDistribution(kernel, x_test, y_train, theta, p_train, mu_test, mu_train):\n",
    "    A = kernel(x_test, x_test, theta)\n",
    "    B = kernel(x_test, y_train, theta)\n",
    "    C = kernel(y_train, y_train, theta)\n",
    "    \n",
    "    C_inv = np.linalg.inv(C)\n",
    "    mat_BCinv = np.dot(B, C_inv)\n",
    "    \n",
    "    mu_ = mu_test + mat_BCinv.dot(y_train - mu_train)\n",
    "    sigma_ = A - mat_BCinv.dot(C.T)\n",
    "    \n",
    "\n",
    "    return (mu_.squeeze(), sigma_.squeeze())"
   ]
  },
  {
   "cell_type": "code",
   "execution_count": 6,
   "metadata": {},
   "outputs": [],
   "source": [
    "# parameters theta\n",
    "theta = [1, 1/3.16]"
   ]
  },
  {
   "cell_type": "code",
   "execution_count": 47,
   "metadata": {},
   "outputs": [
    {
     "data": {
      "image/png": "[encoded data removed]",
      "text/plain": [
       "<Figure size 432x288 with 1 Axes>"
      ]
     },
     "metadata": {
      "needs_background": "light"
     },
     "output_type": "display_data"
    }
   ],
   "source": [
    "sigma_0 = rbf_kernel(0, 0, theta)\n",
    "xpts = np.arange(-3, 3, step=0.01)\n",
    "\n",
    "plt.errorbar(xpts, np.zeros(len(xpts)), yerr=sigma_0, capsize=0)\n",
    "plt.ylim(-3, 3);"
   ]
  },
  {
   "cell_type": "code",
   "execution_count": 149,
   "metadata": {},
   "outputs": [],
   "source": [
    "## function to compute the posterior mean and std deviation of each data point\n",
    "\n",
    "def post_xele(x_element, y_train, kernel, theta, sigma_yy, p_ytrain, mu_train, mu_test_pt):\n",
    "    \n",
    "    sigma_xy_row = [kernel(x_element, y, theta) for y in y_train] # do not convert to an array\n",
    "    \n",
    "    yy_inv = np.linalg.inv(sigma_yy)\n",
    "    \n",
    "    mat_xy_yy1 = np.dot(sigma_xy_row, yy_inv)\n",
    "    \n",
    "    ## test element posterior mean\n",
    "    \n",
    "    x_post_ele_mu = mu_test_pt + mat_xy_yy1.dot(p_ytrain - mu_train)\n",
    "    \n",
    "    \n",
    "    ## test posterior co-var matrix diagonal element\n",
    "    \n",
    "    sigma_xx = kernel(x_element, x_element, theta)\n",
    "    \n",
    "    xx_post_sigma_dia_ele = sigma_xx - mat_xy_yy1.dot(sigma_xy_row)\n",
    "    \n",
    "    return x_post_ele_mu, xx_post_sigma_dia_ele  # not as an immutable tuple\n"
   ]
  },
  {
   "cell_type": "code",
   "execution_count": 150,
   "metadata": {},
   "outputs": [],
   "source": [
    "#np.random.seed(42)\n",
    "\n",
    "x_0 = np.array(np.random.random(size=5) * 6 - 3) # choosing random points from -3 to +3\n",
    "\n",
    "y_0 = np.array(np.random.normal(scale=sigma_0, size=5)) # assigning random values to sample points\n",
    "\n",
    "sigma_1 = rbf_kernel(x_0, x_0, theta)"
   ]
  },
  {
   "cell_type": "code",
   "execution_count": 151,
   "metadata": {},
   "outputs": [],
   "source": [
    "x_pred = np.linspace(-3, 3, 1000)\n",
    "\n",
    "mu_train = np.zeros(y_0.shape)\n",
    "mu_test = np.zeros(x_pred.shape)\n",
    "\n",
    "sigma_yy = rbf_kernel(y_0, y_0, theta)\n",
    "x_post = [post_xele(i, x_0, rbf_kernel, theta, sigma_1, y_0, mu_train, j) \n",
    "              for i,j in zip(x_pred, mu_test)]"
   ]
  },
  {
   "cell_type": "code",
   "execution_count": 152,
   "metadata": {},
   "outputs": [
    {
     "data": {
      "image/png": "[encoded data removed]",
      "text/plain": [
       "<Figure size 432x288 with 1 Axes>"
      ]
     },
     "metadata": {
      "needs_background": "light"
     },
     "output_type": "display_data"
    }
   ],
   "source": [
    "y_pred, sigmas = np.transpose(x_post)\n",
    "plt.errorbar(x_pred, y_pred, ecolor='y', yerr=sigmas, capsize=0)\n",
    "plt.plot(x_pred, y_pred, 'm')\n",
    "plt.plot(x_0, y_0, \"ro\")\n",
    "plt.xlim(-3, 3); plt.ylim(-3, 3);"
   ]
  }
 ],
 "metadata": {
  "kernelspec": {
   "display_name": "Python 3",
   "language": "python",
   "name": "python3"
  },
  "language_info": {
   "codemirror_mode": {
    "name": "ipython",
    "version": 3
   },
   "file_extension": ".py",
   "mimetype": "text/x-python",
   "name": "python",
   "nbconvert_exporter": "python",
   "pygments_lexer": "ipython3",
   "version": "3.7.4"
  }
 },
 "nbformat": 4,
 "nbformat_minor": 2
}
